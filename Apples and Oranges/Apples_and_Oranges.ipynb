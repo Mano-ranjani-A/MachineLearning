{
  "nbformat": 4,
  "nbformat_minor": 0,
  "metadata": {
    "colab": {
      "provenance": []
    },
    "kernelspec": {
      "name": "python3",
      "display_name": "Python 3"
    },
    "language_info": {
      "name": "python"
    }
  },
  "cells": [
    {
      "cell_type": "code",
      "execution_count": 1,
      "metadata": {
        "id": "2LHzTkCF457t"
      },
      "outputs": [],
      "source": [
        "redcolor=0\n",
        "smooth=0\n",
        "apple=0"
      ]
    },
    {
      "cell_type": "code",
      "source": [
        "orangecolor=1\n",
        "rough=1\n",
        "orange=1"
      ],
      "metadata": {
        "id": "1Ti3C_ji5U2q"
      },
      "execution_count": 2,
      "outputs": []
    },
    {
      "cell_type": "code",
      "source": [
        "#Put all data points in an array - features and labels in seperate arrays\n",
        "\n",
        "features=[[redcolor,smooth],[orangecolor,rough],[redcolor,smooth],[redcolor,smooth],[orangecolor,rough],[orangecolor,rough],[redcolor,smooth]]"
      ],
      "metadata": {
        "id": "EKLfEaU15aTd"
      },
      "execution_count": 13,
      "outputs": []
    },
    {
      "cell_type": "code",
      "source": [
        "labels=[apple,orange,apple,apple,orange,orange,apple]"
      ],
      "metadata": {
        "id": "Q89tuNNC5dES"
      },
      "execution_count": 5,
      "outputs": []
    },
    {
      "cell_type": "code",
      "source": [
        "#import decision tree function from sklearn package and train it on your data\n",
        "\n",
        "from sklearn import tree"
      ],
      "metadata": {
        "id": "jOwaepVi5j1X"
      },
      "execution_count": 8,
      "outputs": []
    },
    {
      "cell_type": "code",
      "source": [
        "classifier=tree.DecisionTreeClassifier()\n",
        "classifier.fit(features,labels)"
      ],
      "metadata": {
        "colab": {
          "base_uri": "https://localhost:8080/"
        },
        "id": "pocaLNJ55oF9",
        "outputId": "534738f2-b5e7-4a3a-e9d4-17f83b981128"
      },
      "execution_count": 9,
      "outputs": [
        {
          "output_type": "execute_result",
          "data": {
            "text/plain": [
              "DecisionTreeClassifier()"
            ]
          },
          "metadata": {},
          "execution_count": 9
        }
      ]
    },
    {
      "cell_type": "code",
      "source": [
        "inputcolor=input('Enter the color of the fruit: ')\n",
        "inputtexture=input('Enter the texture of the fruit: ')"
      ],
      "metadata": {
        "colab": {
          "base_uri": "https://localhost:8080/"
        },
        "id": "RuUTcRZV6UAg",
        "outputId": "026c7ee3-ee8b-4826-d893-728539008599"
      },
      "execution_count": 10,
      "outputs": [
        {
          "name": "stdout",
          "output_type": "stream",
          "text": [
            "Enter the color of the fruit: red\n",
            "Enter the texture of the fruit: smooth\n"
          ]
        }
      ]
    },
    {
      "cell_type": "code",
      "source": [
        "if (inputcolor == 'red' or inputcolor == 'redcolor'):\n",
        "  inputcolornew = 0\n",
        "else:\n",
        "  inputcolornew = 1\n",
        "if (inputtexture =='smooth'):\n",
        "  inputtexturenew = 0\n",
        "else:\n",
        "  inputtexturenew = 1"
      ],
      "metadata": {
        "id": "IJlABIoK5xam"
      },
      "execution_count": 11,
      "outputs": []
    },
    {
      "cell_type": "code",
      "source": [
        "#predict output for user's input and print output\n",
        "\n",
        "if(classifier.predict([[inputcolornew,inputtexturenew]]) == 0):\n",
        "  print('Fruit is an Apple')\n",
        "else:\n",
        "  print('Fruit is an Orange') "
      ],
      "metadata": {
        "colab": {
          "base_uri": "https://localhost:8080/"
        },
        "id": "ivkKhAg96LlU",
        "outputId": "5e974730-fcc8-450f-e900-4afecdc2870c"
      },
      "execution_count": 12,
      "outputs": [
        {
          "output_type": "stream",
          "name": "stdout",
          "text": [
            "Fruit is an Apple\n"
          ]
        }
      ]
    }
  ]
}